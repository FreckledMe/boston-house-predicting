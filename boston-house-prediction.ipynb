{
 "cells": [
  {
   "cell_type": "code",
   "execution_count": 1,
   "id": "9c692fce",
   "metadata": {},
   "outputs": [],
   "source": [
    "import tensorflow as tf\n",
    "from tensorflow import keras\n",
    "import numpy as np\n",
    "import sklearn"
   ]
  },
  {
   "cell_type": "code",
   "execution_count": 2,
   "id": "2962b863",
   "metadata": {},
   "outputs": [],
   "source": [
    "#load dataset\n",
    "(x_train,y_train),(x_test,y_test) = tf.keras.datasets.boston_housing.load_data(test_split=0.2, seed=42)"
   ]
  },
  {
   "cell_type": "code",
   "execution_count": 60,
   "id": "a6886663",
   "metadata": {},
   "outputs": [
    {
     "data": {
      "text/plain": [
       "array([9.1780e-02, 0.0000e+00, 4.0500e+00, 0.0000e+00, 5.1000e-01,\n",
       "       6.4160e+00, 8.4100e+01, 2.6463e+00, 5.0000e+00, 2.9600e+02,\n",
       "       1.6600e+01, 3.9550e+02, 9.0400e+00])"
      ]
     },
     "execution_count": 60,
     "metadata": {},
     "output_type": "execute_result"
    }
   ],
   "source": [
    "x_train[0]"
   ]
  },
  {
   "cell_type": "code",
   "execution_count": 4,
   "id": "74e2a0ae",
   "metadata": {},
   "outputs": [],
   "source": [
    "# normalization\n",
    "\n",
    "std_x = np.concatenate((x_train,x_test)).std(axis=0)\n",
    "mean_x = np.concatenate((y_train,y_test)).mean(axis=0)\n",
    "std_y = np.concatenate((y_train,y_test)).std(axis=0)\n",
    "mean_y = np.concatenate((y_train,y_test)).mean(axis=0)\n",
    "\n",
    "x_train = (x_train - mean_x)/std_x\n",
    "x_test = (x_test - mean_x)/std_x\n",
    "y_train = (y_train - mean_y)/std_y\n",
    "y_test = (y_test - mean_y)/std_y"
   ]
  },
  {
   "cell_type": "code",
   "execution_count": 5,
   "id": "c972a877",
   "metadata": {},
   "outputs": [
    {
     "name": "stdout",
     "output_type": "stream",
     "text": [
      "Epoch 1/100\n",
      "13/13 [==============================] - 0s 2ms/step - loss: 50.1002 - accuracy: 0.0000e+00\n",
      "Epoch 2/100\n",
      "13/13 [==============================] - 0s 1ms/step - loss: 0.7395 - accuracy: 0.0000e+00\n",
      "Epoch 3/100\n",
      "13/13 [==============================] - 0s 2ms/step - loss: 0.7371 - accuracy: 0.0000e+00\n",
      "Epoch 4/100\n",
      "13/13 [==============================] - 0s 2ms/step - loss: 0.7351 - accuracy: 0.0000e+00\n",
      "Epoch 5/100\n",
      "13/13 [==============================] - 0s 1ms/step - loss: 0.7338 - accuracy: 0.0000e+00\n",
      "Epoch 6/100\n",
      "13/13 [==============================] - 0s 1ms/step - loss: 0.7330 - accuracy: 0.0000e+00\n",
      "Epoch 7/100\n",
      "13/13 [==============================] - 0s 1ms/step - loss: 0.7324 - accuracy: 0.0000e+00\n",
      "Epoch 8/100\n",
      "13/13 [==============================] - 0s 1ms/step - loss: 0.7322 - accuracy: 0.0000e+00\n",
      "Epoch 9/100\n",
      "13/13 [==============================] - 0s 1ms/step - loss: 0.7319 - accuracy: 0.0000e+00\n",
      "Epoch 10/100\n",
      "13/13 [==============================] - 0s 1ms/step - loss: 0.7316 - accuracy: 0.0000e+00\n",
      "Epoch 11/100\n",
      "13/13 [==============================] - 0s 2ms/step - loss: 0.7314 - accuracy: 0.0000e+00\n",
      "Epoch 12/100\n",
      "13/13 [==============================] - 0s 2ms/step - loss: 0.7313 - accuracy: 0.0000e+00\n",
      "Epoch 13/100\n",
      "13/13 [==============================] - 0s 1ms/step - loss: 0.7312 - accuracy: 0.0000e+00\n",
      "Epoch 14/100\n",
      "13/13 [==============================] - 0s 2ms/step - loss: 0.7312 - accuracy: 0.0000e+00\n",
      "Epoch 15/100\n",
      "13/13 [==============================] - 0s 2ms/step - loss: 0.7311 - accuracy: 0.0000e+00\n",
      "Epoch 16/100\n",
      "13/13 [==============================] - 0s 2ms/step - loss: 0.7310 - accuracy: 0.0000e+00\n",
      "Epoch 17/100\n",
      "13/13 [==============================] - 0s 2ms/step - loss: 0.7310 - accuracy: 0.0000e+00\n",
      "Epoch 18/100\n",
      "13/13 [==============================] - 0s 1ms/step - loss: 0.7309 - accuracy: 0.0000e+00\n",
      "Epoch 19/100\n",
      "13/13 [==============================] - 0s 1ms/step - loss: 0.7308 - accuracy: 0.0000e+00\n",
      "Epoch 20/100\n",
      "13/13 [==============================] - 0s 1ms/step - loss: 0.7308 - accuracy: 0.0000e+00\n",
      "Epoch 21/100\n",
      "13/13 [==============================] - 0s 1ms/step - loss: 0.7308 - accuracy: 0.0000e+00\n",
      "Epoch 22/100\n",
      "13/13 [==============================] - 0s 1ms/step - loss: 0.7308 - accuracy: 0.0000e+00\n",
      "Epoch 23/100\n",
      "13/13 [==============================] - 0s 1ms/step - loss: 0.7307 - accuracy: 0.0000e+00\n",
      "Epoch 24/100\n",
      "13/13 [==============================] - 0s 2ms/step - loss: 0.7309 - accuracy: 0.0000e+00\n",
      "Epoch 25/100\n",
      "13/13 [==============================] - 0s 1ms/step - loss: 0.7308 - accuracy: 0.0000e+00\n",
      "Epoch 26/100\n",
      "13/13 [==============================] - 0s 1ms/step - loss: 0.7307 - accuracy: 0.0000e+00\n",
      "Epoch 27/100\n",
      "13/13 [==============================] - 0s 1ms/step - loss: 0.7308 - accuracy: 0.0000e+00\n",
      "Epoch 28/100\n",
      "13/13 [==============================] - 0s 2ms/step - loss: 0.7307 - accuracy: 0.0000e+00\n",
      "Epoch 29/100\n",
      "13/13 [==============================] - 0s 1ms/step - loss: 0.7308 - accuracy: 0.0000e+00\n",
      "Epoch 30/100\n",
      "13/13 [==============================] - 0s 1ms/step - loss: 0.7307 - accuracy: 0.0000e+00\n",
      "Epoch 31/100\n",
      "13/13 [==============================] - 0s 1ms/step - loss: 0.7309 - accuracy: 0.0000e+00\n",
      "Epoch 32/100\n",
      "13/13 [==============================] - 0s 1ms/step - loss: 0.7307 - accuracy: 0.0000e+00\n",
      "Epoch 33/100\n",
      "13/13 [==============================] - 0s 1ms/step - loss: 0.7308 - accuracy: 0.0000e+00\n",
      "Epoch 34/100\n",
      "13/13 [==============================] - 0s 1ms/step - loss: 0.7307 - accuracy: 0.0000e+00\n",
      "Epoch 35/100\n",
      "13/13 [==============================] - 0s 1ms/step - loss: 0.7310 - accuracy: 0.0000e+00\n",
      "Epoch 36/100\n",
      "13/13 [==============================] - 0s 2ms/step - loss: 0.7308 - accuracy: 0.0000e+00\n",
      "Epoch 37/100\n",
      "13/13 [==============================] - 0s 1ms/step - loss: 0.7307 - accuracy: 0.0000e+00\n",
      "Epoch 38/100\n",
      "13/13 [==============================] - 0s 2ms/step - loss: 0.7308 - accuracy: 0.0000e+00\n",
      "Epoch 39/100\n",
      "13/13 [==============================] - 0s 1ms/step - loss: 0.7308 - accuracy: 0.0000e+00\n",
      "Epoch 40/100\n",
      "13/13 [==============================] - 0s 1ms/step - loss: 0.7308 - accuracy: 0.0000e+00\n",
      "Epoch 41/100\n",
      "13/13 [==============================] - 0s 1ms/step - loss: 0.7309 - accuracy: 0.0000e+00\n",
      "Epoch 42/100\n",
      "13/13 [==============================] - 0s 1ms/step - loss: 0.7307 - accuracy: 0.0000e+00\n",
      "Epoch 43/100\n",
      "13/13 [==============================] - 0s 1ms/step - loss: 0.7308 - accuracy: 0.0000e+00\n",
      "Epoch 44/100\n",
      "13/13 [==============================] - 0s 1ms/step - loss: 0.7307 - accuracy: 0.0000e+00\n",
      "Epoch 45/100\n",
      "13/13 [==============================] - 0s 1ms/step - loss: 0.7307 - accuracy: 0.0000e+00\n",
      "Epoch 46/100\n",
      "13/13 [==============================] - 0s 2ms/step - loss: 0.7307 - accuracy: 0.0000e+00\n",
      "Epoch 47/100\n",
      "13/13 [==============================] - 0s 1ms/step - loss: 0.7308 - accuracy: 0.0000e+00\n",
      "Epoch 48/100\n",
      "13/13 [==============================] - 0s 2ms/step - loss: 0.7308 - accuracy: 0.0000e+00\n",
      "Epoch 49/100\n",
      "13/13 [==============================] - 0s 2ms/step - loss: 0.7308 - accuracy: 0.0000e+00\n",
      "Epoch 50/100\n",
      "13/13 [==============================] - 0s 1ms/step - loss: 0.7307 - accuracy: 0.0000e+00\n",
      "Epoch 51/100\n",
      "13/13 [==============================] - 0s 1ms/step - loss: 0.7307 - accuracy: 0.0000e+00\n",
      "Epoch 52/100\n",
      "13/13 [==============================] - 0s 1ms/step - loss: 0.7308 - accuracy: 0.0000e+00\n",
      "Epoch 53/100\n",
      "13/13 [==============================] - 0s 1ms/step - loss: 0.7307 - accuracy: 0.0000e+00\n",
      "Epoch 54/100\n",
      "13/13 [==============================] - 0s 1ms/step - loss: 0.7308 - accuracy: 0.0000e+00\n",
      "Epoch 55/100\n",
      "13/13 [==============================] - 0s 1ms/step - loss: 0.7308 - accuracy: 0.0000e+00\n",
      "Epoch 56/100\n",
      "13/13 [==============================] - 0s 1ms/step - loss: 0.7309 - accuracy: 0.0000e+00\n",
      "Epoch 57/100\n",
      "13/13 [==============================] - 0s 1ms/step - loss: 0.7308 - accuracy: 0.0000e+00\n",
      "Epoch 58/100\n",
      "13/13 [==============================] - 0s 1ms/step - loss: 0.7308 - accuracy: 0.0000e+00\n",
      "Epoch 59/100\n",
      "13/13 [==============================] - 0s 2ms/step - loss: 0.7307 - accuracy: 0.0000e+00\n",
      "Epoch 60/100\n",
      "13/13 [==============================] - 0s 2ms/step - loss: 0.7309 - accuracy: 0.0000e+00\n",
      "Epoch 61/100\n",
      "13/13 [==============================] - 0s 2ms/step - loss: 0.7307 - accuracy: 0.0000e+00\n",
      "Epoch 62/100\n",
      "13/13 [==============================] - 0s 2ms/step - loss: 0.7308 - accuracy: 0.0000e+00\n",
      "Epoch 63/100\n",
      "13/13 [==============================] - 0s 2ms/step - loss: 0.7307 - accuracy: 0.0000e+00\n",
      "Epoch 64/100\n",
      "13/13 [==============================] - 0s 3ms/step - loss: 0.7308 - accuracy: 0.0000e+00\n",
      "Epoch 65/100\n",
      "13/13 [==============================] - 0s 3ms/step - loss: 0.7307 - accuracy: 0.0000e+00\n",
      "Epoch 66/100\n",
      "13/13 [==============================] - 0s 3ms/step - loss: 0.7307 - accuracy: 0.0000e+00\n",
      "Epoch 67/100\n",
      "13/13 [==============================] - 0s 4ms/step - loss: 0.7308 - accuracy: 0.0000e+00\n",
      "Epoch 68/100\n",
      "13/13 [==============================] - 0s 4ms/step - loss: 0.7308 - accuracy: 0.0000e+00\n",
      "Epoch 69/100\n",
      "13/13 [==============================] - 0s 3ms/step - loss: 0.7307 - accuracy: 0.0000e+00\n",
      "Epoch 70/100\n",
      "13/13 [==============================] - 0s 2ms/step - loss: 0.7308 - accuracy: 0.0000e+00\n",
      "Epoch 71/100\n",
      "13/13 [==============================] - 0s 2ms/step - loss: 0.7307 - accuracy: 0.0000e+00\n",
      "Epoch 72/100\n",
      "13/13 [==============================] - 0s 2ms/step - loss: 0.7307 - accuracy: 0.0000e+00\n",
      "Epoch 73/100\n",
      "13/13 [==============================] - 0s 1ms/step - loss: 0.7308 - accuracy: 0.0000e+00\n",
      "Epoch 74/100\n",
      "13/13 [==============================] - 0s 1ms/step - loss: 0.7308 - accuracy: 0.0000e+00\n",
      "Epoch 75/100\n",
      "13/13 [==============================] - 0s 1ms/step - loss: 0.7307 - accuracy: 0.0000e+00\n",
      "Epoch 76/100\n",
      "13/13 [==============================] - 0s 1ms/step - loss: 0.7308 - accuracy: 0.0000e+00\n",
      "Epoch 77/100\n",
      "13/13 [==============================] - 0s 1ms/step - loss: 0.7308 - accuracy: 0.0000e+00\n",
      "Epoch 78/100\n",
      "13/13 [==============================] - 0s 1ms/step - loss: 0.7308 - accuracy: 0.0000e+00\n",
      "Epoch 79/100\n",
      "13/13 [==============================] - 0s 1ms/step - loss: 0.7308 - accuracy: 0.0000e+00\n",
      "Epoch 80/100\n",
      "13/13 [==============================] - 0s 1ms/step - loss: 0.7307 - accuracy: 0.0000e+00\n",
      "Epoch 81/100\n",
      "13/13 [==============================] - 0s 1ms/step - loss: 0.7309 - accuracy: 0.0000e+00\n",
      "Epoch 82/100\n",
      "13/13 [==============================] - 0s 1ms/step - loss: 0.7307 - accuracy: 0.0000e+00\n",
      "Epoch 83/100\n",
      "13/13 [==============================] - 0s 2ms/step - loss: 0.7309 - accuracy: 0.0000e+00\n",
      "Epoch 84/100\n",
      "13/13 [==============================] - 0s 1ms/step - loss: 0.7308 - accuracy: 0.0000e+00\n",
      "Epoch 85/100\n",
      "13/13 [==============================] - 0s 1ms/step - loss: 0.7307 - accuracy: 0.0000e+00\n",
      "Epoch 86/100\n",
      "13/13 [==============================] - 0s 2ms/step - loss: 0.7308 - accuracy: 0.0000e+00\n",
      "Epoch 87/100\n",
      "13/13 [==============================] - 0s 2ms/step - loss: 0.7308 - accuracy: 0.0000e+00\n",
      "Epoch 88/100\n",
      "13/13 [==============================] - 0s 1ms/step - loss: 0.7308 - accuracy: 0.0000e+00\n",
      "Epoch 89/100\n",
      "13/13 [==============================] - 0s 1ms/step - loss: 0.7308 - accuracy: 0.0000e+00\n",
      "Epoch 90/100\n",
      "13/13 [==============================] - 0s 2ms/step - loss: 0.7307 - accuracy: 0.0000e+00\n",
      "Epoch 91/100\n",
      "13/13 [==============================] - 0s 1ms/step - loss: 0.7307 - accuracy: 0.0000e+00\n",
      "Epoch 92/100\n",
      "13/13 [==============================] - 0s 1ms/step - loss: 0.7308 - accuracy: 0.0000e+00\n",
      "Epoch 93/100\n",
      "13/13 [==============================] - 0s 1ms/step - loss: 0.7307 - accuracy: 0.0000e+00\n",
      "Epoch 94/100\n",
      "13/13 [==============================] - 0s 1ms/step - loss: 0.7307 - accuracy: 0.0000e+00\n",
      "Epoch 95/100\n",
      "13/13 [==============================] - 0s 1ms/step - loss: 0.7308 - accuracy: 0.0000e+00\n",
      "Epoch 96/100\n",
      "13/13 [==============================] - 0s 1ms/step - loss: 0.7309 - accuracy: 0.0000e+00\n",
      "Epoch 97/100\n",
      "13/13 [==============================] - 0s 1ms/step - loss: 0.7307 - accuracy: 0.0000e+00\n",
      "Epoch 98/100\n",
      "13/13 [==============================] - 0s 1ms/step - loss: 0.7308 - accuracy: 0.0000e+00\n",
      "Epoch 99/100\n",
      "13/13 [==============================] - 0s 1ms/step - loss: 0.7308 - accuracy: 0.0000e+00\n",
      "Epoch 100/100\n",
      "13/13 [==============================] - 0s 1ms/step - loss: 0.7307 - accuracy: 0.0000e+00\n"
     ]
    }
   ],
   "source": [
    "model = keras.Sequential(\n",
    "    [\n",
    "        keras.layers.Dense(64,input_shape = (13,),activation='relu'),\n",
    "        # keras.layers.Dense(32,activation='relu'),\n",
    "        keras.layers.Dense(16,activation='relu'),\n",
    "        keras.layers.Dense(1)\n",
    "    ]\n",
    ")\n",
    "loss_fn = keras.losses.MeanAbsoluteError()\n",
    "optim_fn = keras.optimizers.SGD()\n",
    "\n",
    "model.compile(optimizer=optim_fn,loss=loss_fn,metrics=['accuracy'])\n",
    "history = model.fit(x_train,y_train,epochs=100,batch_size=32)"
   ]
  },
  {
   "cell_type": "code",
   "execution_count": 6,
   "id": "98988943",
   "metadata": {},
   "outputs": [
    {
     "name": "stdout",
     "output_type": "stream",
     "text": [
      "Model: \"sequential\"\n",
      "_________________________________________________________________\n",
      " Layer (type)                Output Shape              Param #   \n",
      "=================================================================\n",
      " dense (Dense)               (None, 64)                896       \n",
      "                                                                 \n",
      " dense_1 (Dense)             (None, 16)                1040      \n",
      "                                                                 \n",
      " dense_2 (Dense)             (None, 1)                 17        \n",
      "                                                                 \n",
      "=================================================================\n",
      "Total params: 1,953\n",
      "Trainable params: 1,953\n",
      "Non-trainable params: 0\n",
      "_________________________________________________________________\n"
     ]
    }
   ],
   "source": [
    "model.summary()"
   ]
  },
  {
   "cell_type": "code",
   "execution_count": 7,
   "id": "c84fdd51",
   "metadata": {},
   "outputs": [
    {
     "name": "stdout",
     "output_type": "stream",
     "text": [
      "4/4 [==============================] - 0s 1ms/step - loss: 0.6324 - accuracy: 0.0000e+00\n"
     ]
    },
    {
     "data": {
      "text/plain": [
       "[0.6324359774589539, 0.0]"
      ]
     },
     "execution_count": 7,
     "metadata": {},
     "output_type": "execute_result"
    }
   ],
   "source": [
    "model.evaluate(x_test,y_test)"
   ]
  },
  {
   "cell_type": "code",
   "execution_count": 63,
   "id": "7666205f",
   "metadata": {},
   "outputs": [],
   "source": [
    "# save trained model\n",
    "model.save('model/boston.h5')"
   ]
  },
  {
   "cell_type": "code",
   "execution_count": 64,
   "id": "5925c58c",
   "metadata": {},
   "outputs": [
    {
     "data": {
      "text/plain": [
       "1953"
      ]
     },
     "execution_count": 64,
     "metadata": {},
     "output_type": "execute_result"
    }
   ],
   "source": [
    "#count parameters\n",
    "model.count_params()"
   ]
  },
  {
   "cell_type": "code",
   "execution_count": 3,
   "id": "7bb9f15a",
   "metadata": {},
   "outputs": [],
   "source": [
    "# load model\n",
    "boston_model = keras.models.load_model('model/boston.h5')"
   ]
  },
  {
   "cell_type": "code",
   "execution_count": 2,
   "id": "8dae7a3e",
   "metadata": {},
   "outputs": [
    {
     "ename": "NameError",
     "evalue": "name 'mean_x' is not defined",
     "output_type": "error",
     "traceback": [
      "\u001b[1;31m---------------------------------------------------------------------------\u001b[0m",
      "\u001b[1;31mNameError\u001b[0m                                 Traceback (most recent call last)",
      "Cell \u001b[1;32mIn[2], line 3\u001b[0m\n\u001b[0;32m      1\u001b[0m x \u001b[39m=\u001b[39m \u001b[39mlist\u001b[39m(\u001b[39mmap\u001b[39m(\u001b[39mfloat\u001b[39m,\u001b[39minput\u001b[39m()\u001b[39m.\u001b[39msplit()))\n\u001b[0;32m      2\u001b[0m x \u001b[39m=\u001b[39m np\u001b[39m.\u001b[39marray(x)\n\u001b[1;32m----> 3\u001b[0m x \u001b[39m=\u001b[39m (x \u001b[39m-\u001b[39m mean_x)\u001b[39m/\u001b[39mstd_x\n\u001b[0;32m      4\u001b[0m predict \u001b[39m=\u001b[39m (boston_model\u001b[39m.\u001b[39mpredict(np\u001b[39m.\u001b[39marray([x]))\u001b[39m-\u001b[39mmean_y)\u001b[39m/\u001b[39mstd_y\n\u001b[0;32m      5\u001b[0m predict\n",
      "\u001b[1;31mNameError\u001b[0m: name 'mean_x' is not defined"
     ]
    }
   ],
   "source": [
    "x = list(map(float,input().split()))\n",
    "x = np.array(x)\n",
    "x = (x - mean_x)/std_x\n",
    "predict = (boston_model.predict(np.array([x]))-mean_y)/std_y\n",
    "predict"
   ]
  },
  {
   "cell_type": "code",
   "execution_count": 3,
   "id": "0dead3dd",
   "metadata": {},
   "outputs": [
    {
     "name": "stdout",
     "output_type": "stream",
     "text": [
      "Requirement already satisfied: pip in c:\\users\\justf\\appdata\\local\\programs\\python\\python310\\lib\\site-packages (23.0.1)\n"
     ]
    }
   ],
   "source": [
    "!pip install --upgrade pip"
   ]
  },
  {
   "cell_type": "code",
   "execution_count": null,
   "id": "39f3b4b6",
   "metadata": {},
   "outputs": [],
   "source": []
  }
 ],
 "metadata": {
  "kernelspec": {
   "display_name": "keras_env",
   "language": "python",
   "name": "keras_env"
  },
  "language_info": {
   "codemirror_mode": {
    "name": "ipython",
    "version": 3
   },
   "file_extension": ".py",
   "mimetype": "text/x-python",
   "name": "python",
   "nbconvert_exporter": "python",
   "pygments_lexer": "ipython3",
   "version": "3.10.10"
  }
 },
 "nbformat": 4,
 "nbformat_minor": 5
}
